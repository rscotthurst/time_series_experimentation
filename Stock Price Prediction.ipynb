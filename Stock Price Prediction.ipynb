{
 "cells": [
  {
   "cell_type": "markdown",
   "id": "60fb5bf4-dc57-4eaf-ac1a-81ca424535fd",
   "metadata": {},
   "source": [
    "# Stock Price Prediction\n",
    "\n",
    "Based on [this tutorial](https://www.datacamp.com/tutorial/tutorial-for-recurrent-neural-network#h_98120918811647451977183)."
   ]
  },
  {
   "cell_type": "markdown",
   "id": "0870e4a2-60db-44b5-b74a-ab9917be3ed3",
   "metadata": {},
   "source": [
    "### Import Libraries"
   ]
  },
  {
   "cell_type": "code",
   "execution_count": 1,
   "id": "777e6a04-2f33-46ed-9b68-59b0cb138916",
   "metadata": {},
   "outputs": [],
   "source": [
    "import tensorflow as tf\n",
    "import numpy as np\n",
    "import pandas as pd\n",
    "import matplotlib.pyplot as plt\n",
    "\n",
    "from sklearn.preprocessing import MinMaxScaler\n",
    "from sklearn.metrics import mean_squared_error\n",
    "\n",
    "from tensorflow.keras.models import Sequential\n",
    "from tensorflow.keras.layers import Dense, LSTM, Dropout, GRU, Bidirectional\n",
    "from tensorflow.keras.optimizers import SGD\n",
    "\n",
    "tf.random.set_seed(455)\n",
    "np.random.seed(455)"
   ]
  },
  {
   "cell_type": "code",
   "execution_count": 2,
   "id": "cbd3faa0-882e-4035-9564-b9c6cba896c2",
   "metadata": {},
   "outputs": [
    {
     "data": {
      "text/html": [
       "<div>\n",
       "<style scoped>\n",
       "    .dataframe tbody tr th:only-of-type {\n",
       "        vertical-align: middle;\n",
       "    }\n",
       "\n",
       "    .dataframe tbody tr th {\n",
       "        vertical-align: top;\n",
       "    }\n",
       "\n",
       "    .dataframe thead th {\n",
       "        text-align: right;\n",
       "    }\n",
       "</style>\n",
       "<table border=\"1\" class=\"dataframe\">\n",
       "  <thead>\n",
       "    <tr style=\"text-align: right;\">\n",
       "      <th></th>\n",
       "      <th>Open</th>\n",
       "      <th>High</th>\n",
       "      <th>Low</th>\n",
       "      <th>Close</th>\n",
       "      <th>Volume</th>\n",
       "    </tr>\n",
       "    <tr>\n",
       "      <th>Date</th>\n",
       "      <th></th>\n",
       "      <th></th>\n",
       "      <th></th>\n",
       "      <th></th>\n",
       "      <th></th>\n",
       "    </tr>\n",
       "  </thead>\n",
       "  <tbody>\n",
       "    <tr>\n",
       "      <th>2006-05-25</th>\n",
       "      <td>3.748967</td>\n",
       "      <td>4.283869</td>\n",
       "      <td>3.739664</td>\n",
       "      <td>4.279217</td>\n",
       "      <td>395343000</td>\n",
       "    </tr>\n",
       "    <tr>\n",
       "      <th>2006-05-26</th>\n",
       "      <td>4.307126</td>\n",
       "      <td>4.348058</td>\n",
       "      <td>4.103398</td>\n",
       "      <td>4.179680</td>\n",
       "      <td>103044000</td>\n",
       "    </tr>\n",
       "    <tr>\n",
       "      <th>2006-05-30</th>\n",
       "      <td>4.183400</td>\n",
       "      <td>4.184330</td>\n",
       "      <td>3.986184</td>\n",
       "      <td>4.093164</td>\n",
       "      <td>49898000</td>\n",
       "    </tr>\n",
       "    <tr>\n",
       "      <th>2006-05-31</th>\n",
       "      <td>4.125723</td>\n",
       "      <td>4.219679</td>\n",
       "      <td>4.125723</td>\n",
       "      <td>4.180608</td>\n",
       "      <td>30002000</td>\n",
       "    </tr>\n",
       "    <tr>\n",
       "      <th>2006-06-01</th>\n",
       "      <td>4.179678</td>\n",
       "      <td>4.474572</td>\n",
       "      <td>4.176887</td>\n",
       "      <td>4.419686</td>\n",
       "      <td>62344000</td>\n",
       "    </tr>\n",
       "  </tbody>\n",
       "</table>\n",
       "</div>"
      ],
      "text/plain": [
       "                Open      High       Low     Close     Volume\n",
       "Date                                                         \n",
       "2006-05-25  3.748967  4.283869  3.739664  4.279217  395343000\n",
       "2006-05-26  4.307126  4.348058  4.103398  4.179680  103044000\n",
       "2006-05-30  4.183400  4.184330  3.986184  4.093164   49898000\n",
       "2006-05-31  4.125723  4.219679  4.125723  4.180608   30002000\n",
       "2006-06-01  4.179678  4.474572  4.176887  4.419686   62344000"
      ]
     },
     "execution_count": 2,
     "metadata": {},
     "output_type": "execute_result"
    }
   ],
   "source": [
    "dataset = pd.read_csv(\"data/Mastercard_stock_history.csv\", index_col=\"Date\", parse_dates=[\"Date\"])\n",
    "dataset.drop(columns=[\"Dividends\", \"Stock Splits\"], inplace=True)\n",
    "dataset.head()"
   ]
  },
  {
   "cell_type": "code",
   "execution_count": 3,
   "id": "df0c565d-cee2-46ae-9701-80fd8575dd57",
   "metadata": {},
   "outputs": [
    {
     "data": {
      "text/html": [
       "<div>\n",
       "<style scoped>\n",
       "    .dataframe tbody tr th:only-of-type {\n",
       "        vertical-align: middle;\n",
       "    }\n",
       "\n",
       "    .dataframe tbody tr th {\n",
       "        vertical-align: top;\n",
       "    }\n",
       "\n",
       "    .dataframe thead th {\n",
       "        text-align: right;\n",
       "    }\n",
       "</style>\n",
       "<table border=\"1\" class=\"dataframe\">\n",
       "  <thead>\n",
       "    <tr style=\"text-align: right;\">\n",
       "      <th></th>\n",
       "      <th>Open</th>\n",
       "      <th>High</th>\n",
       "      <th>Low</th>\n",
       "      <th>Close</th>\n",
       "      <th>Volume</th>\n",
       "    </tr>\n",
       "  </thead>\n",
       "  <tbody>\n",
       "    <tr>\n",
       "      <th>count</th>\n",
       "      <td>3872.000000</td>\n",
       "      <td>3872.000000</td>\n",
       "      <td>3872.000000</td>\n",
       "      <td>3872.000000</td>\n",
       "      <td>3.872000e+03</td>\n",
       "    </tr>\n",
       "    <tr>\n",
       "      <th>mean</th>\n",
       "      <td>104.896814</td>\n",
       "      <td>105.956054</td>\n",
       "      <td>103.769349</td>\n",
       "      <td>104.882714</td>\n",
       "      <td>1.232250e+07</td>\n",
       "    </tr>\n",
       "    <tr>\n",
       "      <th>std</th>\n",
       "      <td>106.245511</td>\n",
       "      <td>107.303589</td>\n",
       "      <td>105.050064</td>\n",
       "      <td>106.168693</td>\n",
       "      <td>1.759665e+07</td>\n",
       "    </tr>\n",
       "    <tr>\n",
       "      <th>min</th>\n",
       "      <td>3.748967</td>\n",
       "      <td>4.102467</td>\n",
       "      <td>3.739664</td>\n",
       "      <td>4.083861</td>\n",
       "      <td>6.411000e+05</td>\n",
       "    </tr>\n",
       "    <tr>\n",
       "      <th>25%</th>\n",
       "      <td>22.347203</td>\n",
       "      <td>22.637997</td>\n",
       "      <td>22.034458</td>\n",
       "      <td>22.300391</td>\n",
       "      <td>3.529475e+06</td>\n",
       "    </tr>\n",
       "    <tr>\n",
       "      <th>50%</th>\n",
       "      <td>70.810079</td>\n",
       "      <td>71.375896</td>\n",
       "      <td>70.224002</td>\n",
       "      <td>70.856083</td>\n",
       "      <td>5.891750e+06</td>\n",
       "    </tr>\n",
       "    <tr>\n",
       "      <th>75%</th>\n",
       "      <td>147.688448</td>\n",
       "      <td>148.645373</td>\n",
       "      <td>146.822013</td>\n",
       "      <td>147.688438</td>\n",
       "      <td>1.319775e+07</td>\n",
       "    </tr>\n",
       "    <tr>\n",
       "      <th>max</th>\n",
       "      <td>392.653890</td>\n",
       "      <td>400.521479</td>\n",
       "      <td>389.747812</td>\n",
       "      <td>394.685730</td>\n",
       "      <td>3.953430e+08</td>\n",
       "    </tr>\n",
       "  </tbody>\n",
       "</table>\n",
       "</div>"
      ],
      "text/plain": [
       "              Open         High          Low        Close        Volume\n",
       "count  3872.000000  3872.000000  3872.000000  3872.000000  3.872000e+03\n",
       "mean    104.896814   105.956054   103.769349   104.882714  1.232250e+07\n",
       "std     106.245511   107.303589   105.050064   106.168693  1.759665e+07\n",
       "min       3.748967     4.102467     3.739664     4.083861  6.411000e+05\n",
       "25%      22.347203    22.637997    22.034458    22.300391  3.529475e+06\n",
       "50%      70.810079    71.375896    70.224002    70.856083  5.891750e+06\n",
       "75%     147.688448   148.645373   146.822013   147.688438  1.319775e+07\n",
       "max     392.653890   400.521479   389.747812   394.685730  3.953430e+08"
      ]
     },
     "execution_count": 3,
     "metadata": {},
     "output_type": "execute_result"
    }
   ],
   "source": [
    "dataset.describe()"
   ]
  },
  {
   "cell_type": "code",
   "execution_count": 4,
   "id": "f8fa7a43-4018-4aca-9a89-4ee07f3a0156",
   "metadata": {},
   "outputs": [
    {
     "data": {
      "text/plain": [
       "Open      0\n",
       "High      0\n",
       "Low       0\n",
       "Close     0\n",
       "Volume    0\n",
       "dtype: int64"
      ]
     },
     "execution_count": 4,
     "metadata": {},
     "output_type": "execute_result"
    }
   ],
   "source": [
    "dataset.isna().sum()"
   ]
  },
  {
   "cell_type": "code",
   "execution_count": 5,
   "id": "ed23a4e7-2690-459e-a38e-98ae3e94bfb6",
   "metadata": {},
   "outputs": [
    {
     "name": "stdout",
     "output_type": "stream",
     "text": [
      "dataset contains the dates 2006-05-25 00:00:00 through 2021-10-11 00:00:00\n"
     ]
    }
   ],
   "source": [
    "print(f'dataset contains the dates {dataset.index.min()} through {dataset.index.max()}')"
   ]
  },
  {
   "cell_type": "markdown",
   "id": "5f6ccc09-d2c9-44e8-92c2-a3bf42f6a8c4",
   "metadata": {},
   "source": [
    "## Visualize Data\n",
    "Our test dataset consists of one year, from 2021 to 2022, and the rest of the dataset is used for training."
   ]
  },
  {
   "cell_type": "code",
   "execution_count": 6,
   "id": "f873f046-8191-4aa6-a08f-fc44a08b643b",
   "metadata": {},
   "outputs": [
    {
     "data": {
      "image/png": "[encoded data removed]",
      "text/plain": [
       "<Figure size 1152x288 with 1 Axes>"
      ]
     },
     "metadata": {
      "needs_background": "light"
     },
     "output_type": "display_data"
    }
   ],
   "source": [
    "tstart = 2016\n",
    "tend = 2020\n",
    "\n",
    "def train_test_plot(dataset, tstart, tend):\n",
    "    dataset.loc[f\"{tstart}\":f\"{tend}\", \"High\"].plot(figsize=(16, 4), legend=True)\n",
    "    dataset.loc[f\"{tend+1}\":, \"High\"].plot(figsize=(16, 4), legend=True)\n",
    "    plt.legend([f\"Train (Before {tend+1})\", f\"Test ({tend+1} and beyond)\"])\n",
    "    plt.title(\"MasterCard stock price\")\n",
    "    plt.show()\n",
    "\n",
    "train_test_plot(dataset,tstart,tend)"
   ]
  },
  {
   "cell_type": "markdown",
   "id": "24f2a0e4-93b1-4ac7-9eb3-6e5cbc1cfb5e",
   "metadata": {},
   "source": [
    "### Data Preprocessing\n",
    "The `train_test_split` function divides the dataset into two subsets: training_set and test_set."
   ]
  },
  {
   "cell_type": "code",
   "execution_count": 7,
   "id": "1d83f2da-c4ab-4814-85e9-6546025badcf",
   "metadata": {},
   "outputs": [],
   "source": [
    "def train_test_split(dataset, tstart, tend):\n",
    "    train = dataset.loc[f\"{tstart}\":f\"{tend}\", \"High\"].values\n",
    "    test = dataset.loc[f\"{tend+1}\":, \"High\"].values\n",
    "    return train, test"
   ]
  },
  {
   "cell_type": "code",
   "execution_count": 8,
   "id": "c0739acf-e307-4618-9ba3-f8d3a85bea45",
   "metadata": {},
   "outputs": [],
   "source": [
    "training_set, test_set = train_test_split(dataset, tstart, tend)"
   ]
  },
  {
   "cell_type": "markdown",
   "id": "4da958a6-8933-447c-913e-a7241fa8baa6",
   "metadata": {},
   "source": [
    "We will use the `MinMaxScaler` function to standardize our training set, which will help us avoid the outliers or anomalies. You can also try using `StandardScaler` or any other scalar function to normalize your data and improve model performance."
   ]
  },
  {
   "cell_type": "code",
   "execution_count": 9,
   "id": "3c137f53-7774-4696-b212-22bb1b7ea70a",
   "metadata": {},
   "outputs": [],
   "source": [
    "sc = MinMaxScaler(feature_range=(0, 1))\n",
    "training_set = training_set.reshape(-1, 1)\n",
    "training_set_scaled = sc.fit_transform(training_set)"
   ]
  },
  {
   "cell_type": "markdown",
   "id": "a94b94a0-b815-49f8-a8fa-bb83f4f0af1f",
   "metadata": {},
   "source": [
    "The split_sequence function uses a training dataset and converts it into inputs (X_train) and outputs (y_train).\n",
    "\n",
    "For example, if the sequence is [1,2,3,4,5,6,7,8,9,10,11,12] and the n_step is three, then it will convert the sequence into three input timestamps and one output as shown below:\n",
    "\n",
    "```\n",
    "X     | y\n",
    "------|---\n",
    "1,2,3 | 4\n",
    "2,3,4 | 5\n",
    "3,4,5 | 6\n",
    "4,5,6 | 7\n",
    "...   | ...\n",
    "```"
   ]
  },
  {
   "cell_type": "code",
   "execution_count": 10,
   "id": "125ba6d7-075d-4524-9e3d-766c49a138bc",
   "metadata": {},
   "outputs": [],
   "source": [
    "def split_sequence(sequence, n_steps):\n",
    "    X, y = list(), list()\n",
    "    for i in range(len(sequence)):\n",
    "        end_ix = i + n_steps\n",
    "        if end_ix > len(sequence) - 1:\n",
    "            break\n",
    "        seq_x, seq_y = sequence[i:end_ix], sequence[end_ix]\n",
    "        X.append(seq_x)\n",
    "        y.append(seq_y)\n",
    "    return np.array(X), np.array(y)"
   ]
  },
  {
   "cell_type": "code",
   "execution_count": 11,
   "id": "679b06de-5122-42f7-9582-286c33a3965a",
   "metadata": {},
   "outputs": [],
   "source": [
    "n_steps = 60\n",
    "features = 1\n",
    "\n",
    "# split into samples\n",
    "X_train, y_train = split_sequence(training_set_scaled, n_steps)"
   ]
  },
  {
   "cell_type": "markdown",
   "id": "6daf8907-a3cb-4f6d-9499-20e05c08bc88",
   "metadata": {},
   "source": [
    "We are working with univariate series, so the number of features is one, and we need to reshape the X_train to fit on the LSTM model. The X_train has [samples, timesteps], and we will reshape it to [samples, timesteps, features]."
   ]
  },
  {
   "cell_type": "code",
   "execution_count": 12,
   "id": "f2fb6b77-e286-42e6-a4c4-3f1d49f2154d",
   "metadata": {},
   "outputs": [],
   "source": [
    "# Reshaping X_train for model\n",
    "X_train = X_train.reshape(X_train.shape[0],X_train.shape[1],features)"
   ]
  },
  {
   "cell_type": "markdown",
   "id": "636e8fbd-32bd-4994-b42f-9bdfaff800e3",
   "metadata": {},
   "source": [
    "### LSTM Model\n",
    "The model consists of a single hidden layer of LSTM and an output layer. You can experiment with the number of units, as more units will give you better results. For this experiment, we will set LSTM units to 125, tanh as activation, and set input size.\n",
    "\n",
    "Author’s Note: Tensorflow library is user-friendly, so we don't have to create LSTM or GRU models from scratch. We will simply use the LSTM or GRU modules to construct the model.\n",
    "\n",
    "Finally, we will compile the model with an RMSprop optimizer and mean square error as a loss function."
   ]
  },
  {
   "cell_type": "code",
   "execution_count": 13,
   "id": "1df31d01-de2a-4198-a373-575d986a3d69",
   "metadata": {},
   "outputs": [
    {
     "name": "stderr",
     "output_type": "stream",
     "text": [
      "2022-08-15 15:40:21.101056: I tensorflow/core/platform/cpu_feature_guard.cc:145] This TensorFlow binary is optimized with Intel(R) MKL-DNN to use the following CPU instructions in performance critical operations:  SSE4.1 SSE4.2 AVX AVX2 FMA\n",
      "To enable them in non-MKL-DNN operations, rebuild TensorFlow with the appropriate compiler flags.\n",
      "2022-08-15 15:40:21.101537: I tensorflow/core/common_runtime/process_util.cc:115] Creating new thread pool with default inter op setting: 12. Tune using inter_op_parallelism_threads for best performance.\n"
     ]
    }
   ],
   "source": [
    "# The LSTM architecture\n",
    "model_lstm = Sequential()\n",
    "model_lstm.add(LSTM(units=125, activation=\"tanh\", input_shape=(n_steps, features)))\n",
    "model_lstm.add(Dense(units=1))"
   ]
  },
  {
   "cell_type": "code",
   "execution_count": 14,
   "id": "8dbb3202-7916-4895-bd79-41a6787deded",
   "metadata": {},
   "outputs": [
    {
     "name": "stdout",
     "output_type": "stream",
     "text": [
      "Model: \"sequential\"\n",
      "_________________________________________________________________\n",
      "Layer (type)                 Output Shape              Param #   \n",
      "=================================================================\n",
      "lstm (LSTM)                  (None, 125)               63500     \n",
      "_________________________________________________________________\n",
      "dense (Dense)                (None, 1)                 126       \n",
      "=================================================================\n",
      "Total params: 63,626\n",
      "Trainable params: 63,626\n",
      "Non-trainable params: 0\n",
      "_________________________________________________________________\n"
     ]
    }
   ],
   "source": [
    "# Compiling the model\n",
    "model_lstm.compile(optimizer=\"RMSprop\", loss=\"mse\")\n",
    "\n",
    "model_lstm.summary()"
   ]
  },
  {
   "cell_type": "code",
   "execution_count": 15,
   "id": "b296afc2-6949-447c-bf28-59f6dae9a562",
   "metadata": {
    "scrolled": true,
    "tags": []
   },
   "outputs": [
    {
     "name": "stdout",
     "output_type": "stream",
     "text": [
      "Train on 1199 samples\n",
      "Epoch 1/50\n"
     ]
    },
    {
     "name": "stderr",
     "output_type": "stream",
     "text": [
      "2022-08-15 15:40:22.844333: W tensorflow/core/grappler/optimizers/implementation_selector.cc:310] Skipping optimization due to error while loading function libraries: Invalid argument: Functions '__inference___backward_cudnn_lstm_with_fallback_2230_2412' and '__inference___backward_standard_lstm_2525_3010_specialized_for_StatefulPartitionedCall_at___inference_distributed_function_3140' both implement 'lstm_81a13f92-c791-4d4c-bec3-e92ba0784a71' but their signatures do not match.\n"
     ]
    },
    {
     "name": "stdout",
     "output_type": "stream",
     "text": [
      "1199/1199 [==============================] - 7s 6ms/sample - loss: 0.0162\n",
      "Epoch 2/50\n",
      "1199/1199 [==============================] - 5s 4ms/sample - loss: 0.0026\n",
      "Epoch 3/50\n",
      "1199/1199 [==============================] - 5s 4ms/sample - loss: 0.0023\n",
      "Epoch 4/50\n",
      "1199/1199 [==============================] - 5s 4ms/sample - loss: 0.0017\n",
      "Epoch 5/50\n",
      "1199/1199 [==============================] - 5s 4ms/sample - loss: 0.0015\n",
      "Epoch 6/50\n",
      "1199/1199 [==============================] - 5s 4ms/sample - loss: 0.0013\n",
      "Epoch 7/50\n",
      "1199/1199 [==============================] - 5s 4ms/sample - loss: 0.0012\n",
      "Epoch 8/50\n",
      "1199/1199 [==============================] - 5s 4ms/sample - loss: 0.0012\n",
      "Epoch 9/50\n",
      "1199/1199 [==============================] - 5s 4ms/sample - loss: 9.5637e-04\n",
      "Epoch 10/50\n",
      "1199/1199 [==============================] - 5s 4ms/sample - loss: 9.4044e-04\n",
      "Epoch 11/50\n",
      "1199/1199 [==============================] - 5s 4ms/sample - loss: 8.6388e-04\n",
      "Epoch 12/50\n",
      "1199/1199 [==============================] - 5s 4ms/sample - loss: 8.1588e-04\n",
      "Epoch 13/50\n",
      "1199/1199 [==============================] - 5s 4ms/sample - loss: 9.3346e-04\n",
      "Epoch 14/50\n",
      "1199/1199 [==============================] - 5s 4ms/sample - loss: 8.8533e-04\n",
      "Epoch 15/50\n",
      "1199/1199 [==============================] - 5s 4ms/sample - loss: 5.6383e-04\n",
      "Epoch 16/50\n",
      "1199/1199 [==============================] - 5s 4ms/sample - loss: 7.9544e-04\n",
      "Epoch 17/50\n",
      "1199/1199 [==============================] - 5s 4ms/sample - loss: 6.8084e-04\n",
      "Epoch 18/50\n",
      "1199/1199 [==============================] - 5s 4ms/sample - loss: 5.4458e-04\n",
      "Epoch 19/50\n",
      "1199/1199 [==============================] - 5s 4ms/sample - loss: 6.2967e-04\n",
      "Epoch 20/50\n",
      "1199/1199 [==============================] - 5s 4ms/sample - loss: 6.0649e-04\n",
      "Epoch 21/50\n",
      "1199/1199 [==============================] - 5s 4ms/sample - loss: 4.9689e-04\n",
      "Epoch 22/50\n",
      "1199/1199 [==============================] - 5s 4ms/sample - loss: 6.1410e-04\n",
      "Epoch 23/50\n",
      "1199/1199 [==============================] - 5s 4ms/sample - loss: 5.1707e-04\n",
      "Epoch 24/50\n",
      "1199/1199 [==============================] - 5s 4ms/sample - loss: 5.9549e-04\n",
      "Epoch 25/50\n",
      "1199/1199 [==============================] - 7s 6ms/sample - loss: 5.0869e-04\n",
      "Epoch 26/50\n",
      "1199/1199 [==============================] - 7s 6ms/sample - loss: 4.8181e-04\n",
      "Epoch 27/50\n",
      "1199/1199 [==============================] - 6s 5ms/sample - loss: 5.2134e-04\n",
      "Epoch 28/50\n",
      "1199/1199 [==============================] - 8s 7ms/sample - loss: 4.2019e-04\n",
      "Epoch 29/50\n",
      "1199/1199 [==============================] - 7s 5ms/sample - loss: 5.6628e-04\n",
      "Epoch 30/50\n",
      "1199/1199 [==============================] - 6s 5ms/sample - loss: 4.5695e-04\n",
      "Epoch 31/50\n",
      "1199/1199 [==============================] - 7s 6ms/sample - loss: 4.6668e-04\n",
      "Epoch 32/50\n",
      "1199/1199 [==============================] - 6s 5ms/sample - loss: 5.0527e-04\n",
      "Epoch 33/50\n",
      "1199/1199 [==============================] - 8s 7ms/sample - loss: 4.2527e-04\n",
      "Epoch 34/50\n",
      "1199/1199 [==============================] - 7s 6ms/sample - loss: 4.1378e-04\n",
      "Epoch 35/50\n",
      "1199/1199 [==============================] - 7s 6ms/sample - loss: 4.3743e-04\n",
      "Epoch 36/50\n",
      "1199/1199 [==============================] - 7s 6ms/sample - loss: 4.2733e-04\n",
      "Epoch 37/50\n",
      "1199/1199 [==============================] - 8s 7ms/sample - loss: 4.5641e-04\n",
      "Epoch 38/50\n",
      "1199/1199 [==============================] - 7s 6ms/sample - loss: 3.4536e-04\n",
      "Epoch 39/50\n",
      "1199/1199 [==============================] - 7s 6ms/sample - loss: 4.3883e-04\n",
      "Epoch 40/50\n",
      "1199/1199 [==============================] - 6s 5ms/sample - loss: 4.1557e-04\n",
      "Epoch 41/50\n",
      "1199/1199 [==============================] - 6s 5ms/sample - loss: 4.2317e-04\n",
      "Epoch 42/50\n",
      "1199/1199 [==============================] - 6s 5ms/sample - loss: 4.0734e-04\n",
      "Epoch 43/50\n",
      "1199/1199 [==============================] - 7s 6ms/sample - loss: 3.6479e-04\n",
      "Epoch 44/50\n",
      "1199/1199 [==============================] - 9s 7ms/sample - loss: 3.8782e-04\n",
      "Epoch 45/50\n",
      "1199/1199 [==============================] - 7s 6ms/sample - loss: 3.9338e-04\n",
      "Epoch 46/50\n",
      "1199/1199 [==============================] - 7s 6ms/sample - loss: 3.8770e-04\n",
      "Epoch 47/50\n",
      "1199/1199 [==============================] - 7s 5ms/sample - loss: 3.6445e-04\n",
      "Epoch 48/50\n",
      "1199/1199 [==============================] - 8s 7ms/sample - loss: 3.6927e-04\n",
      "Epoch 49/50\n",
      "1199/1199 [==============================] - 7s 6ms/sample - loss: 3.7863e-04\n",
      "Epoch 50/50\n",
      "1199/1199 [==============================] - 7s 6ms/sample - loss: 3.6124e-04\n"
     ]
    },
    {
     "data": {
      "text/plain": [
       "<tensorflow.python.keras.callbacks.History at 0x7fd3aea1d910>"
      ]
     },
     "execution_count": 15,
     "metadata": {},
     "output_type": "execute_result"
    }
   ],
   "source": [
    "# Fit Model\n",
    "model_lstm.fit(X_train, y_train, epochs=50, batch_size=32)"
   ]
  },
  {
   "cell_type": "markdown",
   "id": "82e86a36-e18a-474d-80b1-e655fe5b028b",
   "metadata": {},
   "source": [
    "### Results\n",
    "We are going to repeat preprocessing and normalize the test set. First of all we will transform then split the dataset into samples, reshape it, predict, and inverse transform the predictions into standard form."
   ]
  },
  {
   "cell_type": "code",
   "execution_count": 16,
   "id": "4b04e507-a6c7-423d-9b71-4b09c4a89536",
   "metadata": {},
   "outputs": [],
   "source": [
    "dataset_total = dataset.loc[:,\"High\"]\n",
    "inputs = dataset_total[len(dataset_total) - len(test_set) - n_steps :].values\n",
    "inputs = inputs.reshape(-1, 1)"
   ]
  },
  {
   "cell_type": "code",
   "execution_count": 17,
   "id": "7637e055-38b2-4f05-9926-2ac7f761e758",
   "metadata": {},
   "outputs": [],
   "source": [
    "#scaling\n",
    "inputs = sc.transform(inputs)"
   ]
  },
  {
   "cell_type": "code",
   "execution_count": 18,
   "id": "a75cc815-9070-4ff1-aae3-53b987761a6b",
   "metadata": {},
   "outputs": [
    {
     "name": "stderr",
     "output_type": "stream",
     "text": [
      "2022-08-15 15:45:24.818501: W tensorflow/core/grappler/optimizers/implementation_selector.cc:310] Skipping optimization due to error while loading function libraries: Invalid argument: Functions '__inference_cudnn_lstm_with_fallback_7286' and '__inference_standard_lstm_7175_specialized_for_sequential_lstm_StatefulPartitionedCall_at___inference_distributed_function_7477' both implement 'lstm_1adda8f3-46a1-4925-a6da-d18f6c38ef86' but their signatures do not match.\n"
     ]
    }
   ],
   "source": [
    "# Split into samples\n",
    "X_test, y_test = split_sequence(inputs, n_steps)\n",
    "# reshape\n",
    "X_test = X_test.reshape(X_test.shape[0], X_test.shape[1], features)\n",
    "#prediction\n",
    "predicted_stock_price = model_lstm.predict(X_test)\n",
    "#inverse transform the values\n",
    "predicted_stock_price = sc.inverse_transform(predicted_stock_price)"
   ]
  },
  {
   "cell_type": "markdown",
   "id": "85c37f45-3697-492f-a9ed-e19da51f1802",
   "metadata": {},
   "source": [
    "The plot_predictions function will plot a real versus predicted line chart. This will help us visualize the difference between actual and predicted values.\n",
    "\n",
    "The return_rmse function takes in test and predicted arguments and prints out the root mean square error (rmse) metric."
   ]
  },
  {
   "cell_type": "code",
   "execution_count": 19,
   "id": "3b6f852b-1d9c-4498-b2c2-28f6080a05d9",
   "metadata": {},
   "outputs": [],
   "source": [
    "def plot_predictions(test, predicted):\n",
    "    plt.plot(test, color=\"gray\", label=\"Real\")\n",
    "    plt.plot(predicted, color=\"red\", label=\"Predicted\")\n",
    "    plt.title(\"MasterCard Stock Price Prediction\")\n",
    "    plt.xlabel(\"Time\")\n",
    "    plt.ylabel(\"MasterCard Stock Price\")\n",
    "    plt.legend()\n",
    "    plt.show()\n",
    "\n",
    "\n",
    "def return_rmse(test, predicted):\n",
    "    rmse = np.sqrt(mean_squared_error(test, predicted))\n",
    "    print(\"The root mean squared error is {:.2f}.\".format(rmse))"
   ]
  },
  {
   "cell_type": "code",
   "execution_count": 20,
   "id": "faf2d84d-b0c3-4e92-8f11-14d88105ac5e",
   "metadata": {},
   "outputs": [
    {
     "data": {
      "image/png": "[encoded data removed]",
      "text/plain": [
       "<Figure size 432x288 with 1 Axes>"
      ]
     },
     "metadata": {
      "needs_background": "light"
     },
     "output_type": "display_data"
    }
   ],
   "source": [
    "plot_predictions(test_set,predicted_stock_price)"
   ]
  },
  {
   "cell_type": "code",
   "execution_count": 21,
   "id": "1254b845-eb41-42b5-8dee-87bc592ee2e6",
   "metadata": {},
   "outputs": [
    {
     "name": "stdout",
     "output_type": "stream",
     "text": [
      "The root mean squared error is 5.49.\n"
     ]
    }
   ],
   "source": [
    "return_rmse(test_set,predicted_stock_price)"
   ]
  },
  {
   "cell_type": "markdown",
   "id": "7919e635-e0f1-4585-a239-732765c94758",
   "metadata": {},
   "source": [
    "### GRU Model\n",
    "\n",
    "We are going to keep everything the same and just replace the LSTM layer with the GRU layer to properly compare the results. The model structure contains a single GRU layer with 125 units and an output layer."
   ]
  },
  {
   "cell_type": "code",
   "execution_count": 22,
   "id": "519cfb71-d8a2-46c6-8237-1974321aff06",
   "metadata": {},
   "outputs": [],
   "source": [
    "model_gru = Sequential()\n",
    "model_gru.add(GRU(units=125, activation=\"tanh\", input_shape=(n_steps, features)))\n",
    "model_gru.add(Dense(units=1))"
   ]
  },
  {
   "cell_type": "code",
   "execution_count": 23,
   "id": "87f6bda7-b357-4e4d-9e36-aa8a51daa093",
   "metadata": {},
   "outputs": [
    {
     "name": "stdout",
     "output_type": "stream",
     "text": [
      "Model: \"sequential_1\"\n",
      "_________________________________________________________________\n",
      "Layer (type)                 Output Shape              Param #   \n",
      "=================================================================\n",
      "gru (GRU)                    (None, 125)               48000     \n",
      "_________________________________________________________________\n",
      "dense_1 (Dense)              (None, 1)                 126       \n",
      "=================================================================\n",
      "Total params: 48,126\n",
      "Trainable params: 48,126\n",
      "Non-trainable params: 0\n",
      "_________________________________________________________________\n"
     ]
    }
   ],
   "source": [
    "# Compiling the RNN\n",
    "model_gru.compile(optimizer=\"RMSprop\", loss=\"mse\")\n",
    "model_gru.summary()"
   ]
  },
  {
   "cell_type": "code",
   "execution_count": 24,
   "id": "0e82707b-a144-4276-947e-7c038d74aa6a",
   "metadata": {
    "scrolled": true,
    "tags": []
   },
   "outputs": [
    {
     "name": "stdout",
     "output_type": "stream",
     "text": [
      "Train on 1199 samples\n",
      "Epoch 1/50\n"
     ]
    },
    {
     "name": "stderr",
     "output_type": "stream",
     "text": [
      "2022-08-15 15:45:41.388300: W tensorflow/core/grappler/optimizers/implementation_selector.cc:310] Skipping optimization due to error while loading function libraries: Invalid argument: Functions '__inference___backward_cudnn_gru_with_fallback_9634_9773' and '__inference___backward_standard_gru_9883_10442_specialized_for_StatefulPartitionedCall_at___inference_distributed_function_10575' both implement 'gru_d10b9074-0f81-4e5e-a11a-51d419cf1e89' but their signatures do not match.\n"
     ]
    },
    {
     "name": "stdout",
     "output_type": "stream",
     "text": [
      "1199/1199 [==============================] - 7s 6ms/sample - loss: 0.0234\n",
      "Epoch 2/50\n",
      "1199/1199 [==============================] - 5s 4ms/sample - loss: 0.0020\n",
      "Epoch 3/50\n",
      "1199/1199 [==============================] - 5s 4ms/sample - loss: 0.0012\n",
      "Epoch 4/50\n",
      "1199/1199 [==============================] - 5s 4ms/sample - loss: 0.0012\n",
      "Epoch 5/50\n",
      "1199/1199 [==============================] - 5s 4ms/sample - loss: 9.7171e-04\n",
      "Epoch 6/50\n",
      "1199/1199 [==============================] - 5s 4ms/sample - loss: 8.4785e-04\n",
      "Epoch 7/50\n",
      "1199/1199 [==============================] - 5s 4ms/sample - loss: 8.4442e-04\n",
      "Epoch 8/50\n",
      "1199/1199 [==============================] - 5s 4ms/sample - loss: 6.5406e-04\n",
      "Epoch 9/50\n",
      "1199/1199 [==============================] - 5s 4ms/sample - loss: 7.5950e-04\n",
      "Epoch 10/50\n",
      "1199/1199 [==============================] - 6s 5ms/sample - loss: 5.5565e-04\n",
      "Epoch 11/50\n",
      "1199/1199 [==============================] - 7s 6ms/sample - loss: 5.9784e-04\n",
      "Epoch 12/50\n",
      "1199/1199 [==============================] - 8s 7ms/sample - loss: 5.4740e-04\n",
      "Epoch 13/50\n",
      "1199/1199 [==============================] - 8s 7ms/sample - loss: 6.2306e-04\n",
      "Epoch 14/50\n",
      "1199/1199 [==============================] - 8s 7ms/sample - loss: 5.3517e-04\n",
      "Epoch 15/50\n",
      "1199/1199 [==============================] - 10s 9ms/sample - loss: 4.9003e-04\n",
      "Epoch 16/50\n",
      "1199/1199 [==============================] - 8s 7ms/sample - loss: 5.0728e-04\n",
      "Epoch 17/50\n",
      "1199/1199 [==============================] - 7s 6ms/sample - loss: 5.3242e-04\n",
      "Epoch 18/50\n",
      "1199/1199 [==============================] - 8s 7ms/sample - loss: 4.1409e-04\n",
      "Epoch 19/50\n",
      "1199/1199 [==============================] - 8s 6ms/sample - loss: 5.1036e-04\n",
      "Epoch 20/50\n",
      "1199/1199 [==============================] - 8s 6ms/sample - loss: 4.9109e-04\n",
      "Epoch 21/50\n",
      "1199/1199 [==============================] - 7s 5ms/sample - loss: 4.2732e-04\n",
      "Epoch 22/50\n",
      "1199/1199 [==============================] - 12s 10ms/sample - loss: 4.4656e-04\n",
      "Epoch 23/50\n",
      "1199/1199 [==============================] - 9s 7ms/sample - loss: 4.0722e-04\n",
      "Epoch 24/50\n",
      "1199/1199 [==============================] - 7s 6ms/sample - loss: 4.4511e-04\n",
      "Epoch 25/50\n",
      "1199/1199 [==============================] - 8s 7ms/sample - loss: 3.9540e-04\n",
      "Epoch 26/50\n",
      "1199/1199 [==============================] - 11s 9ms/sample - loss: 4.2305e-04\n",
      "Epoch 27/50\n",
      "1199/1199 [==============================] - 9s 8ms/sample - loss: 4.2208e-04\n",
      "Epoch 28/50\n",
      "1199/1199 [==============================] - 7s 6ms/sample - loss: 3.9847e-04\n",
      "Epoch 29/50\n",
      "1199/1199 [==============================] - 8s 6ms/sample - loss: 4.1699e-04\n",
      "Epoch 30/50\n",
      "1199/1199 [==============================] - 11s 10ms/sample - loss: 3.6013e-04\n",
      "Epoch 31/50\n",
      "1199/1199 [==============================] - 8s 7ms/sample - loss: 3.9868e-04\n",
      "Epoch 32/50\n",
      "1199/1199 [==============================] - 8s 7ms/sample - loss: 4.0876e-04\n",
      "Epoch 33/50\n",
      "1199/1199 [==============================] - 9s 7ms/sample - loss: 3.4471e-04\n",
      "Epoch 34/50\n",
      "1199/1199 [==============================] - 9s 7ms/sample - loss: 3.7296e-04\n",
      "Epoch 35/50\n",
      "1199/1199 [==============================] - 10s 8ms/sample - loss: 3.5682e-04\n",
      "Epoch 36/50\n",
      "1199/1199 [==============================] - 10s 9ms/sample - loss: 3.7200e-04\n",
      "Epoch 37/50\n",
      "1199/1199 [==============================] - 8s 7ms/sample - loss: 3.5182e-04\n",
      "Epoch 38/50\n",
      "1199/1199 [==============================] - 8s 7ms/sample - loss: 3.0552e-04\n",
      "Epoch 39/50\n",
      "1199/1199 [==============================] - 9s 7ms/sample - loss: 3.4565e-04\n",
      "Epoch 40/50\n",
      "1199/1199 [==============================] - 8s 7ms/sample - loss: 3.5330e-04\n",
      "Epoch 41/50\n",
      "1199/1199 [==============================] - 9s 7ms/sample - loss: 3.2896e-04\n",
      "Epoch 42/50\n",
      "1199/1199 [==============================] - 9s 7ms/sample - loss: 3.4911e-04\n",
      "Epoch 43/50\n",
      "1199/1199 [==============================] - 9s 7ms/sample - loss: 3.1813e-04\n",
      "Epoch 44/50\n",
      "1199/1199 [==============================] - 8s 7ms/sample - loss: 3.2085e-04\n",
      "Epoch 45/50\n",
      "1199/1199 [==============================] - 8s 7ms/sample - loss: 3.5177e-04\n",
      "Epoch 46/50\n",
      "1199/1199 [==============================] - 8s 7ms/sample - loss: 3.1467e-04\n",
      "Epoch 47/50\n",
      "1199/1199 [==============================] - 10s 8ms/sample - loss: 3.2205e-04\n",
      "Epoch 48/50\n",
      "1199/1199 [==============================] - 8s 6ms/sample - loss: 3.2218e-04\n",
      "Epoch 49/50\n",
      "1199/1199 [==============================] - 10s 8ms/sample - loss: 3.3295e-04\n",
      "Epoch 50/50\n",
      "1199/1199 [==============================] - 13s 11ms/sample - loss: 3.2964e-04\n"
     ]
    },
    {
     "data": {
      "text/plain": [
       "<tensorflow.python.keras.callbacks.History at 0x7fd2e2f13ed0>"
      ]
     },
     "execution_count": 24,
     "metadata": {},
     "output_type": "execute_result"
    }
   ],
   "source": [
    "model_gru.fit(X_train, y_train, epochs=50, batch_size=32)"
   ]
  },
  {
   "cell_type": "code",
   "execution_count": 25,
   "id": "63a0c698-fe87-46a1-a619-3a4d83142595",
   "metadata": {},
   "outputs": [
    {
     "name": "stderr",
     "output_type": "stream",
     "text": [
      "2022-08-15 15:52:21.834548: W tensorflow/core/grappler/optimizers/implementation_selector.cc:310] Skipping optimization due to error while loading function libraries: Invalid argument: Functions '__inference_cudnn_gru_with_fallback_14702' and '__inference_standard_gru_14613_specialized_for_sequential_1_gru_StatefulPartitionedCall_at___inference_distributed_function_14850' both implement 'gru_6ab77ea4-dafb-40b3-9d04-7735a84ed5af' but their signatures do not match.\n"
     ]
    },
    {
     "data": {
      "image/png": "[encoded data removed]",
      "text/plain": [
       "<Figure size 432x288 with 1 Axes>"
      ]
     },
     "metadata": {
      "needs_background": "light"
     },
     "output_type": "display_data"
    }
   ],
   "source": [
    "GRU_predicted_stock_price = model_gru.predict(X_test)\n",
    "GRU_predicted_stock_price = sc.inverse_transform(GRU_predicted_stock_price)\n",
    "plot_predictions(test_set, GRU_predicted_stock_price)"
   ]
  },
  {
   "cell_type": "code",
   "execution_count": 26,
   "id": "cc525d75-1c8a-4d0e-841b-d9f3c3d2efda",
   "metadata": {},
   "outputs": [
    {
     "name": "stdout",
     "output_type": "stream",
     "text": [
      "The root mean squared error is 5.30.\n"
     ]
    }
   ],
   "source": [
    "return_rmse(test_set,GRU_predicted_stock_price)"
   ]
  },
  {
   "cell_type": "code",
   "execution_count": null,
   "id": "479c6f6d-afad-41ec-8418-917e2980e767",
   "metadata": {},
   "outputs": [],
   "source": []
  }
 ],
 "metadata": {
  "kernelspec": {
   "display_name": "Python 3 (ipykernel)",
   "language": "python",
   "name": "python3"
  },
  "language_info": {
   "codemirror_mode": {
    "name": "ipython",
    "version": 3
   },
   "file_extension": ".py",
   "mimetype": "text/x-python",
   "name": "python",
   "nbconvert_exporter": "python",
   "pygments_lexer": "ipython3",
   "version": "3.7.13"
  }
 },
 "nbformat": 4,
 "nbformat_minor": 5
}
